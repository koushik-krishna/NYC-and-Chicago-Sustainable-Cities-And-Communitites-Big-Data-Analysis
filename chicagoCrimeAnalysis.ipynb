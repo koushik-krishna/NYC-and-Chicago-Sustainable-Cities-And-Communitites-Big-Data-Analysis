{
 "cells": [
  {
   "cell_type": "code",
   "execution_count": 0,
   "metadata": {
    "colab": {},
    "colab_type": "code",
    "id": "Q_nL372LP4td"
   },
   "outputs": [],
   "source": [
    "################################################################################\n",
    "# Team members: Koushik Modugu, Abhishek Deshmukh, Adithya V Ganesan, Manoj Kumar\n",
    "# Code Description: This file performs data analysis between crimes in Chicago with various other supplementing \n",
    "# information such as unemployment, Income and housing data from Chicago. We furthiur perform hypothesis testing to \n",
    "# understand the significance of the correlation.\n",
    "# Piplines Used: HDFS,PySpark \n",
    "# Concepts Used : Hypothesis Testing\n",
    "# System: Single node Hadoop with spark setup in in local \n",
    "################################################################################"
   ]
  },
  {
   "cell_type": "code",
   "execution_count": 0,
   "metadata": {
    "colab": {},
    "colab_type": "code",
    "id": "QTm0tTsEJANi"
   },
   "outputs": [],
   "source": [
    "import os\n",
    "import findspark\n",
    "os.environ[\"JAVA_HOME\"] = \"/usr/lib/jvm/java-8-openjdk-amd64\"\n",
    "os.environ[\"SPARK_HOME\"] = \"/content/spark-3.0.0-preview2-bin-hadoop3.2\"\n",
    "findspark.init()"
   ]
  },
  {
   "cell_type": "code",
   "execution_count": 0,
   "metadata": {
    "colab": {},
    "colab_type": "code",
    "id": "kdOOhzw7Jbr-"
   },
   "outputs": [],
   "source": [
    "import pandas as pd\n",
    "from pyspark import SparkContext, SparkConf\n",
    "from pyspark.sql.types import IntegerType, DoubleType\n",
    "from pyspark.sql import SparkSession\n",
    "from operator import add\n",
    "import numpy as np\n",
    "import math\n",
    "from scipy import stats\n",
    "import json\n",
    "from pyspark.sql import functions as F\n",
    "import matplotlib.pyplot as plt\n",
    "%matplotlib inline\n",
    "from pyspark.sql.window import Window\n",
    "plt.style.use('seaborn-whitegrid')"
   ]
  },
  {
   "cell_type": "code",
   "execution_count": 0,
   "metadata": {
    "colab": {},
    "colab_type": "code",
    "id": "jyPBqNL4Jc4D"
   },
   "outputs": [],
   "source": [
    "spark = SparkSession.builder \\\n",
    "                    .appName(\"Chicago\") \\\n",
    "                    .config(\"spark.driver.memory\", \"20g\") \\\n",
    "                    .getOrCreate()"
   ]
  },
  {
   "cell_type": "code",
   "execution_count": 8,
   "metadata": {
    "colab": {
     "base_uri": "https://localhost:8080/",
     "height": 105
    },
    "colab_type": "code",
    "id": "M6pUiH25JeMH",
    "outputId": "e61f6f8b-11c8-4554-e4f2-f371ae65094b"
   },
   "outputs": [
    {
     "data": {
      "text/plain": [
       "[Row(Arrest=False, Beat=412, Block='016XX E 86TH PL', Case Number='JA366925', Community Area=45.0, Date='2001-01-01 11:00:00', Description='FINANCIAL IDENTITY THEFT OVER $ 300', District=4.0, Domestic=False, FBI Code='11', ID=11034701, IUCR='1153', Latitude=None, Location=None, Location Description='RESIDENCE', Longitude=None, Primary_Type_ARSON=0, Primary_Type_ASSAULT=0, Primary_Type_BATTERY=0, Primary_Type_BURGLARY=0, Primary_Type_CONCEALED CARRY LICENSE VIOLATION=0, Primary_Type_CRIM SEXUAL ASSAULT=0, Primary_Type_CRIMINAL DAMAGE=0, Primary_Type_CRIMINAL SEXUAL ASSAULT=0, Primary_Type_CRIMINAL TRESPASS=0, Primary_Type_DECEPTIVE PRACTICE=1, Primary_Type_DOMESTIC VIOLENCE=0, Primary_Type_GAMBLING=0, Primary_Type_HOMICIDE=0, Primary_Type_HUMAN TRAFFICKING=0, Primary_Type_INTERFERENCE WITH PUBLIC OFFICER=0, Primary_Type_INTIMIDATION=0, Primary_Type_KIDNAPPING=0, Primary_Type_LIQUOR LAW VIOLATION=0, Primary_Type_MOTOR VEHICLE THEFT=0, Primary_Type_NARCOTICS=0, Primary_Type_NON - CRIMINAL=0, Primary_Type_NON-CRIMINAL=0, Primary_Type_NON-CRIMINAL (SUBJECT SPECIFIED)=0, Primary_Type_OBSCENITY=0, Primary_Type_OFFENSE INVOLVING CHILDREN=0, Primary_Type_OTHER NARCOTIC VIOLATION=0, Primary_Type_OTHER OFFENSE=0, Primary_Type_PROSTITUTION=0, Primary_Type_PUBLIC INDECENCY=0, Primary_Type_PUBLIC PEACE VIOLATION=0, Primary_Type_RITUALISM=0, Primary_Type_ROBBERY=0, Primary_Type_SEX OFFENSE=0, Primary_Type_STALKING=0, Primary_Type_THEFT=0, Primary_Type_WEAPONS VIOLATION=0, Updated On='2017-08-05 15:50:08', Ward=8.0, X Coordinate=None, Y Coordinate=None, Year=2001),\n",
       " Row(Arrest=False, Beat=2222, Block='092XX S RACINE AVE', Case Number='JB147188', Community Area=73.0, Date='2017-10-08 03:00:00', Description='NON-AGGRAVATED', District=22.0, Domestic=False, FBI Code='02', ID=11227287, IUCR='0281', Latitude=None, Location=None, Location Description='RESIDENCE', Longitude=None, Primary_Type_ARSON=0, Primary_Type_ASSAULT=0, Primary_Type_BATTERY=0, Primary_Type_BURGLARY=0, Primary_Type_CONCEALED CARRY LICENSE VIOLATION=0, Primary_Type_CRIM SEXUAL ASSAULT=1, Primary_Type_CRIMINAL DAMAGE=0, Primary_Type_CRIMINAL SEXUAL ASSAULT=0, Primary_Type_CRIMINAL TRESPASS=0, Primary_Type_DECEPTIVE PRACTICE=0, Primary_Type_DOMESTIC VIOLENCE=0, Primary_Type_GAMBLING=0, Primary_Type_HOMICIDE=0, Primary_Type_HUMAN TRAFFICKING=0, Primary_Type_INTERFERENCE WITH PUBLIC OFFICER=0, Primary_Type_INTIMIDATION=0, Primary_Type_KIDNAPPING=0, Primary_Type_LIQUOR LAW VIOLATION=0, Primary_Type_MOTOR VEHICLE THEFT=0, Primary_Type_NARCOTICS=0, Primary_Type_NON - CRIMINAL=0, Primary_Type_NON-CRIMINAL=0, Primary_Type_NON-CRIMINAL (SUBJECT SPECIFIED)=0, Primary_Type_OBSCENITY=0, Primary_Type_OFFENSE INVOLVING CHILDREN=0, Primary_Type_OTHER NARCOTIC VIOLATION=0, Primary_Type_OTHER OFFENSE=0, Primary_Type_PROSTITUTION=0, Primary_Type_PUBLIC INDECENCY=0, Primary_Type_PUBLIC PEACE VIOLATION=0, Primary_Type_RITUALISM=0, Primary_Type_ROBBERY=0, Primary_Type_SEX OFFENSE=0, Primary_Type_STALKING=0, Primary_Type_THEFT=0, Primary_Type_WEAPONS VIOLATION=0, Updated On='2018-02-11 15:57:41', Ward=21.0, X Coordinate=None, Y Coordinate=None, Year=2017),\n",
       " Row(Arrest=False, Beat=835, Block='026XX W 79TH ST', Case Number='JB147595', Community Area=70.0, Date='2017-03-28 14:00:00', Description='UNLAWFUL ENTRY', District=8.0, Domestic=False, FBI Code='05', ID=11227583, IUCR='0620', Latitude=None, Location=None, Location Description='OTHER', Longitude=None, Primary_Type_ARSON=0, Primary_Type_ASSAULT=0, Primary_Type_BATTERY=0, Primary_Type_BURGLARY=1, Primary_Type_CONCEALED CARRY LICENSE VIOLATION=0, Primary_Type_CRIM SEXUAL ASSAULT=0, Primary_Type_CRIMINAL DAMAGE=0, Primary_Type_CRIMINAL SEXUAL ASSAULT=0, Primary_Type_CRIMINAL TRESPASS=0, Primary_Type_DECEPTIVE PRACTICE=0, Primary_Type_DOMESTIC VIOLENCE=0, Primary_Type_GAMBLING=0, Primary_Type_HOMICIDE=0, Primary_Type_HUMAN TRAFFICKING=0, Primary_Type_INTERFERENCE WITH PUBLIC OFFICER=0, Primary_Type_INTIMIDATION=0, Primary_Type_KIDNAPPING=0, Primary_Type_LIQUOR LAW VIOLATION=0, Primary_Type_MOTOR VEHICLE THEFT=0, Primary_Type_NARCOTICS=0, Primary_Type_NON - CRIMINAL=0, Primary_Type_NON-CRIMINAL=0, Primary_Type_NON-CRIMINAL (SUBJECT SPECIFIED)=0, Primary_Type_OBSCENITY=0, Primary_Type_OFFENSE INVOLVING CHILDREN=0, Primary_Type_OTHER NARCOTIC VIOLATION=0, Primary_Type_OTHER OFFENSE=0, Primary_Type_PROSTITUTION=0, Primary_Type_PUBLIC INDECENCY=0, Primary_Type_PUBLIC PEACE VIOLATION=0, Primary_Type_RITUALISM=0, Primary_Type_ROBBERY=0, Primary_Type_SEX OFFENSE=0, Primary_Type_STALKING=0, Primary_Type_THEFT=0, Primary_Type_WEAPONS VIOLATION=0, Updated On='2018-02-11 15:57:41', Ward=18.0, X Coordinate=None, Y Coordinate=None, Year=2017),\n",
       " Row(Arrest=False, Beat=313, Block='060XX S EBERHART AVE', Case Number='JB147230', Community Area=42.0, Date='2017-09-09 20:17:00', Description='OVER $500', District=3.0, Domestic=False, FBI Code='06', ID=11227293, IUCR='0810', Latitude=None, Location=None, Location Description='RESIDENCE', Longitude=None, Primary_Type_ARSON=0, Primary_Type_ASSAULT=0, Primary_Type_BATTERY=0, Primary_Type_BURGLARY=0, Primary_Type_CONCEALED CARRY LICENSE VIOLATION=0, Primary_Type_CRIM SEXUAL ASSAULT=0, Primary_Type_CRIMINAL DAMAGE=0, Primary_Type_CRIMINAL SEXUAL ASSAULT=0, Primary_Type_CRIMINAL TRESPASS=0, Primary_Type_DECEPTIVE PRACTICE=0, Primary_Type_DOMESTIC VIOLENCE=0, Primary_Type_GAMBLING=0, Primary_Type_HOMICIDE=0, Primary_Type_HUMAN TRAFFICKING=0, Primary_Type_INTERFERENCE WITH PUBLIC OFFICER=0, Primary_Type_INTIMIDATION=0, Primary_Type_KIDNAPPING=0, Primary_Type_LIQUOR LAW VIOLATION=0, Primary_Type_MOTOR VEHICLE THEFT=0, Primary_Type_NARCOTICS=0, Primary_Type_NON - CRIMINAL=0, Primary_Type_NON-CRIMINAL=0, Primary_Type_NON-CRIMINAL (SUBJECT SPECIFIED)=0, Primary_Type_OBSCENITY=0, Primary_Type_OFFENSE INVOLVING CHILDREN=0, Primary_Type_OTHER NARCOTIC VIOLATION=0, Primary_Type_OTHER OFFENSE=0, Primary_Type_PROSTITUTION=0, Primary_Type_PUBLIC INDECENCY=0, Primary_Type_PUBLIC PEACE VIOLATION=0, Primary_Type_RITUALISM=0, Primary_Type_ROBBERY=0, Primary_Type_SEX OFFENSE=0, Primary_Type_STALKING=0, Primary_Type_THEFT=1, Primary_Type_WEAPONS VIOLATION=0, Updated On='2018-02-11 15:57:41', Ward=20.0, X Coordinate=None, Y Coordinate=None, Year=2017)]"
      ]
     },
     "execution_count": 8,
     "metadata": {
      "tags": []
     },
     "output_type": "execute_result"
    }
   ],
   "source": [
    "# get chicago arrest data from the json files\n",
    "arrest_df = spark.read.json(\"hdfs://Crimes_-_2001_to_present0.json\")\n",
    "for i in range(1, 10):\n",
    "    arrest_df = arrest_df.union(spark.read.json(\"hdfs://Crimes_-_2001_to_present\"+str(i)+\".json\"))\n",
    "#format based on timestamp\n",
    "arrest_df = arrest_df.withColumn(\"Date\", F.from_unixtime(F.unix_timestamp(\"Date\",'MM/dd/yyyy hh:mm:ss a')))\n",
    "arrest_df = arrest_df.withColumn(\"Updated On\", F.from_unixtime(F.unix_timestamp(\"Updated On\",'MM/dd/yyyy hh:mm:ss a')))\n",
    "#filter data based on arrest\n",
    "actual_arrest_df = arrest_df.filter(arrest_df.Arrest==1)\n",
    "arrest_df.head(4)"
   ]
  },
  {
   "cell_type": "markdown",
   "metadata": {
    "colab_type": "text",
    "id": "1J9AZqcMS3sP"
   },
   "source": [
    "# Crime and Unemployment Data Analysis"
   ]
  },
  {
   "cell_type": "code",
   "execution_count": 9,
   "metadata": {
    "colab": {
     "base_uri": "https://localhost:8080/",
     "height": 105
    },
    "colab_type": "code",
    "id": "fbYITRdEJhOi",
    "outputId": "7cbfd814-bbf5-4969-b5b9-74dbfc18ecdc"
   },
   "outputs": [
    {
     "data": {
      "text/plain": [
       "[Row(Series ID='LAUCT171400000000003', Year='2011', Period='M01', Label='2011-01-01 00:00:00', UnemploymentRate=10.9, 1-Month Net Change='0.8', month=1),\n",
       " Row(Series ID='LAUCT171400000000003', Year='2011', Period='M02', Label='2011-02-01 00:00:00', UnemploymentRate=10.6, 1-Month Net Change='-0.3', month=2),\n",
       " Row(Series ID='LAUCT171400000000003', Year='2011', Period='M03', Label='2011-03-01 00:00:00', UnemploymentRate=10.3, 1-Month Net Change='-0.3', month=3),\n",
       " Row(Series ID='LAUCT171400000000003', Year='2011', Period='M04', Label='2011-04-01 00:00:00', UnemploymentRate=10.3, 1-Month Net Change='0.0', month=4)]"
      ]
     },
     "execution_count": 9,
     "metadata": {
      "tags": []
     },
     "output_type": "execute_result"
    }
   ],
   "source": [
    "#get unemployment data\n",
    "unemp_df = spark.read.csv('/content/drive/My Drive/ChicagoUnemployment.csv',header=True)\n",
    "unemp_df = unemp_df.withColumnRenamed(\"Value\", \"UnemploymentRate\")\n",
    "unemp_df = unemp_df.filter(unemp_df.Year > 2010)\n",
    "#format based on timestamp\n",
    "unemp_df = unemp_df.withColumn(\"Label\", F.from_unixtime(F.unix_timestamp(\"Label\",'yyyy MMM')))\n",
    "unemp_df = unemp_df.withColumn('month', F.substring(unemp_df['Period'],2,2).cast(IntegerType()))\n",
    "unemp_df = unemp_df.withColumn('UnemploymentRate', unemp_df['UnemploymentRate'].cast(DoubleType()))\n",
    "unemp_df.head(4)"
   ]
  },
  {
   "cell_type": "code",
   "execution_count": 0,
   "metadata": {
    "colab": {},
    "colab_type": "code",
    "id": "sVJDfZojLyGd"
   },
   "outputs": [],
   "source": [
    "# actual_arrest_df = arrest_df.filter(arrest_df.Arrest==1)\n",
    "# get aggregated count\n",
    "grouped_arrests = actual_arrest_df.groupBy([F.month('Date').alias('month'),F.year('Date').alias('year')]).\\\n",
    "          agg(F.count('Arrest').alias('Case Count'))\n",
    "# join the arrest and the unemployment data\n",
    "grouped_arrests_unemp = grouped_arrests.join(unemp_df, (grouped_arrests.month ==\\\n",
    "                        unemp_df.month) & (grouped_arrests.year == unemp_df.Year))\n",
    "grouped_arrests_unemp = grouped_arrests_unemp.select(['Case Count', 'UnemploymentRate'])\n",
    "\n",
    "from pyspark.ml.feature import VectorAssembler\n",
    "# All UnemploymentRate into a vector \"features\"\n",
    "vectorAssembler = VectorAssembler(inputCols = ['UnemploymentRate'], outputCol = 'features')\n",
    "vgrouped_arrests_unemp = vectorAssembler.transform(grouped_arrests_unemp)"
   ]
  },
  {
   "cell_type": "code",
   "execution_count": 11,
   "metadata": {
    "colab": {
     "base_uri": "https://localhost:8080/",
     "height": 34
    },
    "colab_type": "code",
    "id": "DjAIemLCL2Dl",
    "outputId": "07b7826d-dad5-4b4f-c492-fc9c4c5bb0b1"
   },
   "outputs": [
    {
     "data": {
      "text/plain": [
       "0.8867618828247041"
      ]
     },
     "execution_count": 11,
     "metadata": {
      "tags": []
     },
     "output_type": "execute_result"
    }
   ],
   "source": [
    "grouped_arrests_unemp.corr('Case Count', 'UnemploymentRate')"
   ]
  },
  {
   "cell_type": "markdown",
   "metadata": {
    "colab_type": "text",
    "id": "XyZni-FQL4m6"
   },
   "source": [
    "The correlation between UnemploymentRate and NumberOfArrests is 0.88 when the data after 2010 is considered. Interestingly, if we consider data since 2001, the correlation turns out to be 0.24, which implies that from 2001-2010, there were other factors at play. For example, **unemployment rate raised from 2008-2010 due to recession and proportional fraction of the unemployed didn't resort to crime to meet the ends.**"
   ]
  },
  {
   "cell_type": "code",
   "execution_count": 0,
   "metadata": {
    "colab": {},
    "colab_type": "code",
    "id": "HsYHtmj_L31S"
   },
   "outputs": [],
   "source": [
    "def compute_std_error(x_j_diff_square, rss, df):\n",
    "    return math.pow(rss/(df*x_j_diff_square), 0.5)\n",
    "\n",
    "def eval_p_value(t_value, df):\n",
    "    result = []\n",
    "    for val in t_value:\n",
    "        if val > 0.5:\n",
    "            result.append(2*(1 - stats.t.cdf(val,df=df)))\n",
    "        else:\n",
    "            result.append(2*stats.t.cdf(val,df=df))\n",
    "    return result\n",
    "\n",
    "def check_slope_significance(p_values, bonferroni_corrected_alpha):\n",
    "    return_list = list()\n",
    "    # if True (p_value > bonferroni_corrected_alpha), accept the null hypothesis that the slope is insignificant\n",
    "    for p_value in p_values:\n",
    "        return_list.append(True if p_value > bonferroni_corrected_alpha else False)\n",
    "    return return_list\n",
    "\n",
    "def slope_significance_hyp_testing(X, y, y_pred, coefficients):\n",
    "    df = len(X) - (len(coefficients) + 1)\n",
    "    rss = np.sum((y_pred-y)**2)\n",
    "    x_j_diff_squares = np.sum((X-np.mean(X, axis=0).reshape(1,-1))**2, axis=0)\n",
    "    standard_error = compute_std_error(x_j_diff_squares, rss, df)\n",
    "    t_vals = np.divide(coefficients, standard_error)\n",
    "    # Testing significance of all coefficients of X, so correction is division by no of hypotheses \n",
    "    bonferroni_corrected_alpha = 0.05/len(coefficients)\n",
    "    p_values = eval_p_value(t_vals, df)\n",
    "    # print(t_vals, df, p_values)\n",
    "    significant_coeffs = check_slope_significance(p_values, bonferroni_corrected_alpha)\n",
    "    return significant_coeffs"
   ]
  },
  {
   "cell_type": "code",
   "execution_count": 13,
   "metadata": {
    "colab": {
     "base_uri": "https://localhost:8080/",
     "height": 292
    },
    "colab_type": "code",
    "id": "aJPqG8lyM4vo",
    "outputId": "ad104ec1-d260-4f7d-d601-212cc6350f07"
   },
   "outputs": [
    {
     "name": "stdout",
     "output_type": "stream",
     "text": [
      "Coefficients: [542.6552817943833]\n",
      "Intercept: 1945.8744869439072\n",
      "RMSE: 706.484635\n",
      "r2: 0.786347\n",
      "+-------+------------------+-----------------+\n",
      "|summary|        Case Count| UnemploymentRate|\n",
      "+-------+------------------+-----------------+\n",
      "|  count|               111|              111|\n",
      "|   mean| 5839.792792792793|7.175675675675676|\n",
      "| stddev|1535.3696926273135|2.508430013020322|\n",
      "|    min|              2942|              3.1|\n",
      "|    max|              9038|             11.7|\n",
      "+-------+------------------+-----------------+\n",
      "\n",
      "Rejecting the Null hypothesis that the coefficient of UnemploymentRate in NumberOfArrests prediction is insignificant. UnemploymentRate is actually a good predictor of NumberOfArrests\n"
     ]
    }
   ],
   "source": [
    "from pyspark.ml.regression import LinearRegression\n",
    "lr = LinearRegression(featuresCol = 'features', labelCol='Case Count',\n",
    "                      maxIter=200, regParam=0.3, elasticNetParam=0.8)\n",
    "lr_model = lr.fit(vgrouped_arrests_unemp)\n",
    "print(\"Coefficients: \" + str(lr_model.coefficients))\n",
    "print(\"Intercept: \" + str(lr_model.intercept))\n",
    "trainingSummary = lr_model.summary\n",
    "print(\"RMSE: %f\" % trainingSummary.rootMeanSquaredError)\n",
    "print(\"r2: %f\" % trainingSummary.r2)\n",
    "vgrouped_arrests_unemp.describe().show()\n",
    "lr_predictions = lr_model.transform(vgrouped_arrests_unemp)\n",
    "output = np.array(lr_predictions.select(\"prediction\",\"Case Count\",\"UnemploymentRate\").collect())\n",
    "X, y, y_pred = output[:, 2].reshape(-1, 1), output[:, 1].reshape(-1, 1), output[:,0].reshape(-1, 1)\n",
    "coefficient_significance = slope_significance_hyp_testing(X, y, y_pred, np.array(lr_model.coefficients).reshape(-1,1))\n",
    "if coefficient_significance[0] is True:\n",
    "    print(\"Accepting the Null hypothesis that the coefficient of UnemploymentRate in \\\n",
    "NumberOfArrests prediction is insignificant. UnemploymentRate isn't \\\n",
    "a good predictor of NumberOfArrests\")\n",
    "else:\n",
    "    print(\"Rejecting the Null hypothesis that the coefficient of UnemploymentRate in \\\n",
    "NumberOfArrests prediction is insignificant. UnemploymentRate is actually \\\n",
    "a good predictor of NumberOfArrests\")"
   ]
  },
  {
   "cell_type": "markdown",
   "metadata": {
    "colab_type": "text",
    "id": "IEbXviPwRUV2"
   },
   "source": [
    "Hence we conclude that **UnemploymentRate is actually\n",
    "a good predictor of NumberOfArrests**"
   ]
  },
  {
   "cell_type": "code",
   "execution_count": 0,
   "metadata": {
    "colab": {},
    "colab_type": "code",
    "id": "pvuBIhYKM6T7"
   },
   "outputs": [],
   "source": [
    "# From 2017, for all the arrests made the following IUCR codes are the highest Crime types committed.\n",
    "highest_crime_df = actual_arrest_df.filter(actual_arrest_df.Year>=2017).\\\n",
    "                                groupBy(['IUCR']).count().sort(F.desc(\"count\")).limit(7)\n",
    "highest_crime_df = highest_crime_df.withColumnRenamed(\"count\", \"TotalCrimeTypeCount\")"
   ]
  },
  {
   "cell_type": "code",
   "execution_count": 0,
   "metadata": {
    "colab": {},
    "colab_type": "code",
    "id": "IoNsf3PaR7e2"
   },
   "outputs": [],
   "source": [
    "actual_arrest_df_2017 = actual_arrest_df.filter(actual_arrest_df.Year >= 2017)\n",
    "top_crime_actual_arrest_df_2017 = actual_arrest_df_2017.join(highest_crime_df, 'IUCR')\n",
    "\n",
    "community_crime_wise_info = top_crime_actual_arrest_df_2017.groupBy(['IUCR', 'Community Area', 'TotalCrimeTypeCount']).count()\n",
    "community_crime_wise_info = community_crime_wise_info.withColumn(\"TotalFractionOfCrimeInCommuntiy\",\\\n",
    "                                                                 F.col('count')/F.col('TotalCrimeTypeCount'))"
   ]
  },
  {
   "cell_type": "code",
   "execution_count": 16,
   "metadata": {
    "colab": {
     "base_uri": "https://localhost:8080/",
     "height": 731
    },
    "colab_type": "code",
    "id": "AOsN6yWjR8vq",
    "outputId": "2934b5d4-da57-4703-82cc-faba79e6b6be"
   },
   "outputs": [
    {
     "name": "stdout",
     "output_type": "stream",
     "text": [
      "+----+--------------+-------------------+-----+-------------------------------+----+\n",
      "|IUCR|Community Area|TotalCrimeTypeCount|count|TotalFractionOfCrimeInCommuntiy|rank|\n",
      "+----+--------------+-------------------+-----+-------------------------------+----+\n",
      "|0860|           8.0|              15251| 2149|            0.14090879286604158|   1|\n",
      "|0860|          32.0|              15251| 2145|             0.1406465149826241|   2|\n",
      "|0860|          28.0|              15251| 1015|            0.06655301291718575|   3|\n",
      "|0486|          25.0|              16370| 1153|            0.07043372021991448|   1|\n",
      "|0486|          43.0|              16370|  797|            0.04868662186927306|   2|\n",
      "|0486|          71.0|              16370|  761|            0.04648747709224191|   3|\n",
      "|0560|          25.0|               5648|  307|           0.054355524079320115|   1|\n",
      "|0560|          71.0|               5648|  254|           0.044971671388101986|   2|\n",
      "|0560|          43.0|               5648|  250|           0.044263456090651555|   3|\n",
      "|143A|          25.0|              11209|  861|            0.07681327504683737|   1|\n",
      "|143A|          29.0|              11209|  812|            0.07244178784904987|   2|\n",
      "|143A|          68.0|              11209|  673|            0.06004103845124453|   3|\n",
      "|0460|           8.0|               9113|  671|            0.07363107648414353|   1|\n",
      "|0460|          32.0|               9113|  446|           0.048941073192143095|   2|\n",
      "|0460|          25.0|               9113|  404|            0.04433227257763634|   3|\n",
      "|0460|           6.0|               9113|  404|            0.04433227257763634|   3|\n",
      "|2024|          29.0|               8235| 1885|            0.22890103217972071|   1|\n",
      "|2024|          23.0|               8235| 1345|            0.16332726168791742|   2|\n",
      "|2024|          26.0|               8235| 1118|            0.13576199149969642|   3|\n",
      "|1330|           8.0|               9003|  646|            0.07175385982450294|   1|\n",
      "+----+--------------+-------------------+-----+-------------------------------+----+\n",
      "only showing top 20 rows\n",
      "\n",
      "+--------------+------------------------------------------------------+\n",
      "|Community Area|Number of Crime Types the Community is ranked in top 3|\n",
      "+--------------+------------------------------------------------------+\n",
      "|           8.0|                                                     3|\n",
      "|          29.0|                                                     3|\n",
      "|          25.0|                                                     4|\n",
      "|          23.0|                                                     1|\n",
      "|          71.0|                                                     2|\n",
      "|          68.0|                                                     1|\n",
      "|          28.0|                                                     1|\n",
      "|           6.0|                                                     1|\n",
      "|          32.0|                                                     3|\n",
      "|          26.0|                                                     1|\n",
      "|          43.0|                                                     2|\n",
      "+--------------+------------------------------------------------------+\n",
      "\n"
     ]
    }
   ],
   "source": [
    "window = Window.partitionBy(community_crime_wise_info['IUCR']).orderBy(community_crime_wise_info['TotalFractionOfCrimeInCommuntiy'].desc())\n",
    "\n",
    "top_community_crime_wise_info = community_crime_wise_info.select('*', F.rank().over(window).alias('rank')).filter(F.col('rank') <= 3)\n",
    "top_community_crime_wise_info.show()\n",
    "\n",
    "top_communities = top_community_crime_wise_info.groupBy(['Community Area']).count()\n",
    "top_communities = top_communities.withColumnRenamed(\"count\", \"Number of Crime Types the Community is ranked in top 3\")\n",
    "top_communities.show()"
   ]
  },
  {
   "cell_type": "markdown",
   "metadata": {
    "colab_type": "text",
    "id": "wQCwNuUtVXih"
   },
   "source": [
    "**Major Crimes by numbers Since 2017**\n",
    " \n",
    "\n",
    "*   IUCR 0460 - BATTERY CHARGE\n",
    "*   IUCR 0486 - DOMESTIC BATTERY\n",
    "*   IUCR 0560 - ASSAULT\n",
    "*   IUCR 0860 - RETAIL THEFT\n",
    "*   IUCR 143A - UNLAWFUL POSESSION OF HANDGUN\n",
    "*   IUCR 2024 - POSESSION OF HEROIN (NARCOTICS)"
   ]
  },
  {
   "cell_type": "markdown",
   "metadata": {
    "colab_type": "text",
    "id": "jRWZ4bXIVaGj"
   },
   "source": [
    "**Community Analysis**\n",
    "\n",
    "Total community areas in chicago : 77\n",
    "Most of the crimes were observed in the following areas\n",
    "(25 , 8 ,  , 6  \n",
    "\n",
    "*   Austin(25)\n",
    "*   Near North Side(8)\n",
    "*   North Lawndale(29)\n",
    "*   Lake(6)\n",
    "\n",
    "**Suggestion** : Educating these communities and improving surveillance in these regions should cut down the Crime Rate."
   ]
  },
  {
   "cell_type": "markdown",
   "metadata": {
    "colab_type": "text",
    "id": "axOtbOWIVpVX"
   },
   "source": [
    "# Crime and Income Data Analysis"
   ]
  },
  {
   "cell_type": "code",
   "execution_count": 19,
   "metadata": {
    "colab": {
     "base_uri": "https://localhost:8080/",
     "height": 105
    },
    "colab_type": "code",
    "id": "3MIGt4MoR96z",
    "outputId": "da0735f4-04fa-4a1b-92d2-511ad2445836"
   },
   "outputs": [
    {
     "data": {
      "text/plain": [
       "[Row(ID Household Income Bucket='5', Household Income Bucket='$30,000-$34,999', ID Year='2018', Year='2018', Household Income='49409', Household Income Moe='3519.9999999999995', Geography='Chicago, IL', ID Geography='16000US1714000', Slug Geography='chicago-il', share=0.04583879927933009),\n",
       " Row(ID Household Income Bucket='15', Household Income Bucket='$200,000+', ID Year='2018', Year='2018', Household Income='98088', Household Income Moe='5188', Geography='Chicago, IL', ID Geography='16000US1714000', Slug Geography='chicago-il', share=0.09100034697546865),\n",
       " Row(ID Household Income Bucket='13', Household Income Bucket='$125,000-$149,999', ID Year='2018', Year='2018', Household Income='54832', Household Income Moe='3643.0000000000005', Geography='Chicago, IL', ID Geography='16000US1714000', Slug Geography='chicago-il', share=0.05086994357473796),\n",
       " Row(ID Household Income Bucket='12', Household Income Bucket='$100,000-$124,999', ID Year='2018', Year='2018', Household Income='88623', Household Income Moe='4472', Geography='Chicago, IL', ID Geography='16000US1714000', Slug Geography='chicago-il', share=0.08221926994134816)]"
      ]
     },
     "execution_count": 19,
     "metadata": {
      "tags": []
     },
     "output_type": "execute_result"
    }
   ],
   "source": [
    "# Read Chicago Income data using spark\n",
    "income_df = spark.read.csv('/content/drive/My Drive/HouseholdIncomeChicago.csv',header=True)\n",
    "income_df =  income_df[income_df[\"Geography\"]==\"Chicago, IL\"]\n",
    "# Share is the % of people from the city of chicago who fall in a particular income bucket.\n",
    "income_df = income_df.withColumn('share', income_df['share'].cast(DoubleType()))\n",
    "income_df.head(4)"
   ]
  },
  {
   "cell_type": "code",
   "execution_count": 0,
   "metadata": {
    "colab": {},
    "colab_type": "code",
    "id": "5JGlrqZsVsxa"
   },
   "outputs": [],
   "source": [
    "# get Yearwise crimes for Chicago\n",
    "yearwise_grouped_arrests = actual_arrest_df.groupBy([F.year('Date').alias('year')]).\\\n",
    "          agg(F.count('Arrest').alias('Case Count'))\n",
    "\n",
    "# join it with the yearwise income data\n",
    "yearwise_grouped_arrests_income = yearwise_grouped_arrests.join(income_df, (yearwise_grouped_arrests.year ==\\\n",
    "                        income_df.Year))"
   ]
  },
  {
   "cell_type": "code",
   "execution_count": 0,
   "metadata": {
    "colab": {},
    "colab_type": "code",
    "id": "p9EIJx7gV7CO"
   },
   "outputs": [],
   "source": [
    "# get realtionship between crimes and the income bucket share.\n",
    "# bucket = 0, meaning income < $10,000\n",
    "# bucket = 15, meaning income is $200,000+\n",
    "corrs_list = []\n",
    "for bucket in range(16):\n",
    "  bucket = str(bucket)\n",
    "  bucket_df = yearwise_grouped_arrests_income[yearwise_grouped_arrests_income[\"ID Household Income Bucket\"] == bucket ]\n",
    "  bucket_new_df = bucket_df.select(['Case Count', 'share'])\n",
    "  corr = bucket_new_df.corr('Case Count', 'share')\n",
    "  corrs_list.append(corr)"
   ]
  },
  {
   "cell_type": "code",
   "execution_count": 90,
   "metadata": {
    "colab": {
     "base_uri": "https://localhost:8080/",
     "height": 400
    },
    "colab_type": "code",
    "id": "SW1N4s0zXsE_",
    "outputId": "1510c7dd-6c2c-472e-d09c-c07ba1395be7"
   },
   "outputs": [
    {
     "data": {
      "image/png": "[encoded data removed]",
      "text/plain": [
       "<Figure size 720x432 with 1 Axes>"
      ]
     },
     "metadata": {
      "tags": []
     },
     "output_type": "display_data"
    }
   ],
   "source": [
    "plt.figure(figsize=(10,6))\n",
    "plt.plot(corrs_list)\n",
    "plt.title(\"Correlation between crimes and Income Bucket\")\n",
    "plt.ylabel('Correlation with Crime')\n",
    "plt.xlabel('Income Bucket')\n",
    "plt.show()"
   ]
  },
  {
   "cell_type": "markdown",
   "metadata": {
    "colab_type": "text",
    "id": "njjDY7vumLlD"
   },
   "source": [
    "**Inference:**\n",
    "As we can see in the above plot the general trend seems to be that as income bucket increases the, the number of crimes from that section decreases. Thus we make a suggestion for increased focus on low incomes sections when it comes to policy making / patrolling etc."
   ]
  },
  {
   "cell_type": "code",
   "execution_count": 23,
   "metadata": {
    "colab": {
     "base_uri": "https://localhost:8080/",
     "height": 88
    },
    "colab_type": "code",
    "id": "JwEcWFqFm9BY",
    "outputId": "2317485e-414e-4809-c7bb-d8ed74a8f322"
   },
   "outputs": [
    {
     "data": {
      "text/plain": [
       "[Row(year=2018, Case Count=53625, ID Household Income Bucket='0', Household Income Bucket='< $10,000', ID Year='2018', Year='2018', Household Income='99522', Household Income Moe='5180', Geography='Chicago, IL', ID Geography='16000US1714000', Slug Geography='chicago-il', share=0.09233072885258738),\n",
       " Row(year=2018, Case Count=53625, ID Household Income Bucket='1', Household Income Bucket='$10,000-$14,999', ID Year='2018', Year='2018', Household Income='51566', Household Income Moe='3823.9999999999995', Geography='Chicago, IL', ID Geography='16000US1714000', Slug Geography='chicago-il', share=0.04783993854637689),\n",
       " Row(year=2018, Case Count=53625, ID Household Income Bucket='2', Household Income Bucket='$15,000-$19,999', ID Year='2018', Year='2018', Household Income='51047', Household Income Moe='4430', Geography='Chicago, IL', ID Geography='16000US1714000', Slug Geography='chicago-il', share=0.047358440502984545)]"
      ]
     },
     "execution_count": 23,
     "metadata": {
      "tags": []
     },
     "output_type": "execute_result"
    }
   ],
   "source": [
    "yearwise_grouped_arrests_income.head(3)"
   ]
  },
  {
   "cell_type": "code",
   "execution_count": 0,
   "metadata": {
    "colab": {},
    "colab_type": "code",
    "id": "EN4Wzv1Am9JQ"
   },
   "outputs": [],
   "source": [
    "economically_weaker_df = yearwise_grouped_arrests_income[yearwise_grouped_arrests_income[\"ID Household Income Bucket\"] == \"0\" ]\n",
    "economically_weaker_new_df = economically_weaker_df.select(['Case Count', 'share'])"
   ]
  },
  {
   "cell_type": "code",
   "execution_count": 0,
   "metadata": {
    "colab": {},
    "colab_type": "code",
    "id": "KZPIyuSRm9R4"
   },
   "outputs": [],
   "source": [
    "from pyspark.ml.feature import VectorAssembler\n",
    "# All poor buckets share into a vector \"features\"\n",
    "vectorAssembler = VectorAssembler(inputCols = ['share'], outputCol = 'features')\n",
    "vgrouped_arrests_bucket = vectorAssembler.transform(economically_weaker_new_df)"
   ]
  },
  {
   "cell_type": "code",
   "execution_count": 36,
   "metadata": {
    "colab": {
     "base_uri": "https://localhost:8080/",
     "height": 68
    },
    "colab_type": "code",
    "id": "61uQsTxPm9Qt",
    "outputId": "252f16f2-2e39-47fc-c148-603b52f588a6"
   },
   "outputs": [
    {
     "name": "stdout",
     "output_type": "stream",
     "text": [
      "Coefficients: [1576667.4505695242]\n",
      "Intercept: -97945.54113518544\n",
      "Rejecting the Null hypothesis. Thus Income is actually a good predictor of NumberOfArrests\n"
     ]
    }
   ],
   "source": [
    "from pyspark.ml.regression import LinearRegression\n",
    "lr = LinearRegression(featuresCol = 'features', labelCol='Case Count',\n",
    "                      maxIter=100, regParam=0.3, elasticNetParam=0.8)\n",
    "lr_model = lr.fit(vgrouped_arrests_bucket)\n",
    "print(\"Coefficients: \" + str(lr_model.coefficients))\n",
    "print(\"Intercept: \" + str(lr_model.intercept))\n",
    "\n",
    "lr_predictions = lr_model.transform(vgrouped_arrests_bucket)\n",
    "output = np.array(lr_predictions.select(\"prediction\",\"Case Count\",\"share\").collect())\n",
    "\n",
    "y_pred = output[:,0].reshape(-1, 1)\n",
    "y = output[:, 1].reshape(-1, 1) \n",
    "X = output[:, 2].reshape(-1, 1)\n",
    "\n",
    "coefficient_significance = slope_significance_hyp_testing(X, y, y_pred, np.array(lr_model.coefficients).reshape(-1,1))\n",
    "if coefficient_significance[0] is True:\n",
    "    print(\"Can't reject the null hupothesis that the coefficient of Income in \\\n",
    "NumberOfArrests prediction is insignificant. Thus Income isn't \\\n",
    "a good predictor of NumberOfArrests\")\n",
    "else:\n",
    "    print(\"Rejecting the Null hypothesis. Thus Income is actually \\\n",
    "a good predictor of NumberOfArrests\")\n",
    "    "
   ]
  },
  {
   "cell_type": "markdown",
   "metadata": {
    "colab_type": "text",
    "id": "r-diLNQ97Fyx"
   },
   "source": [
    "**Conclusion :** from the correlation graph of income bucket share and the crimes from that section, especially for the economically weaker section , we went ahead and performed hypothesis testing. We found that Income is actually a good predictor of crimes."
   ]
  },
  {
   "cell_type": "markdown",
   "metadata": {
    "colab_type": "text",
    "id": "lTPA5AQVlviq"
   },
   "source": [
    "## Analyzing Domestic Crimes"
   ]
  },
  {
   "cell_type": "code",
   "execution_count": 37,
   "metadata": {
    "colab": {
     "base_uri": "https://localhost:8080/",
     "height": 71
    },
    "colab_type": "code",
    "id": "rCCMSBlOly-T",
    "outputId": "dc9552d0-f81f-451a-bb05-13e3a3fd39d7"
   },
   "outputs": [
    {
     "data": {
      "text/plain": [
       "[Row(Arrest=True, Beat=923, Block='054XX S CALIFORNIA AVE', Case Number='JA377037', Community Area=63.0, Date='2011-01-01 00:01:00', Description='AGG SEX ASSLT OF CHILD FAM MBR', District=9.0, Domestic=True, FBI Code='02', ID=11042582, IUCR='1754', Latitude=None, Location=None, Location Description='APARTMENT', Longitude=None, Primary_Type_ARSON=0, Primary_Type_ASSAULT=0, Primary_Type_BATTERY=0, Primary_Type_BURGLARY=0, Primary_Type_CONCEALED CARRY LICENSE VIOLATION=0, Primary_Type_CRIM SEXUAL ASSAULT=0, Primary_Type_CRIMINAL DAMAGE=0, Primary_Type_CRIMINAL SEXUAL ASSAULT=0, Primary_Type_CRIMINAL TRESPASS=0, Primary_Type_DECEPTIVE PRACTICE=0, Primary_Type_DOMESTIC VIOLENCE=0, Primary_Type_GAMBLING=0, Primary_Type_HOMICIDE=0, Primary_Type_HUMAN TRAFFICKING=0, Primary_Type_INTERFERENCE WITH PUBLIC OFFICER=0, Primary_Type_INTIMIDATION=0, Primary_Type_KIDNAPPING=0, Primary_Type_LIQUOR LAW VIOLATION=0, Primary_Type_MOTOR VEHICLE THEFT=0, Primary_Type_NARCOTICS=0, Primary_Type_NON - CRIMINAL=0, Primary_Type_NON-CRIMINAL=0, Primary_Type_NON-CRIMINAL (SUBJECT SPECIFIED)=0, Primary_Type_OBSCENITY=0, Primary_Type_OFFENSE INVOLVING CHILDREN=1, Primary_Type_OTHER NARCOTIC VIOLATION=0, Primary_Type_OTHER OFFENSE=0, Primary_Type_PROSTITUTION=0, Primary_Type_PUBLIC INDECENCY=0, Primary_Type_PUBLIC PEACE VIOLATION=0, Primary_Type_RITUALISM=0, Primary_Type_ROBBERY=0, Primary_Type_SEX OFFENSE=0, Primary_Type_STALKING=0, Primary_Type_THEFT=0, Primary_Type_WEAPONS VIOLATION=0, Updated On='2017-08-13 15:50:54', Ward=14.0, X Coordinate=None, Y Coordinate=None, Year=2011),\n",
       " Row(Arrest=True, Beat=2521, Block='048XX W MONTANA ST', Case Number='JB172285', Community Area=19.0, Date='2017-10-20 08:00:00', Description='AGG SEX ASSLT OF CHILD FAM MBR', District=25.0, Domestic=True, FBI Code='02', ID=11246488, IUCR='1754', Latitude=None, Location=None, Location Description='APARTMENT', Longitude=None, Primary_Type_ARSON=0, Primary_Type_ASSAULT=0, Primary_Type_BATTERY=0, Primary_Type_BURGLARY=0, Primary_Type_CONCEALED CARRY LICENSE VIOLATION=0, Primary_Type_CRIM SEXUAL ASSAULT=0, Primary_Type_CRIMINAL DAMAGE=0, Primary_Type_CRIMINAL SEXUAL ASSAULT=0, Primary_Type_CRIMINAL TRESPASS=0, Primary_Type_DECEPTIVE PRACTICE=0, Primary_Type_DOMESTIC VIOLENCE=0, Primary_Type_GAMBLING=0, Primary_Type_HOMICIDE=0, Primary_Type_HUMAN TRAFFICKING=0, Primary_Type_INTERFERENCE WITH PUBLIC OFFICER=0, Primary_Type_INTIMIDATION=0, Primary_Type_KIDNAPPING=0, Primary_Type_LIQUOR LAW VIOLATION=0, Primary_Type_MOTOR VEHICLE THEFT=0, Primary_Type_NARCOTICS=0, Primary_Type_NON - CRIMINAL=0, Primary_Type_NON-CRIMINAL=0, Primary_Type_NON-CRIMINAL (SUBJECT SPECIFIED)=0, Primary_Type_OBSCENITY=0, Primary_Type_OFFENSE INVOLVING CHILDREN=1, Primary_Type_OTHER NARCOTIC VIOLATION=0, Primary_Type_OTHER OFFENSE=0, Primary_Type_PROSTITUTION=0, Primary_Type_PUBLIC INDECENCY=0, Primary_Type_PUBLIC PEACE VIOLATION=0, Primary_Type_RITUALISM=0, Primary_Type_ROBBERY=0, Primary_Type_SEX OFFENSE=0, Primary_Type_STALKING=0, Primary_Type_THEFT=0, Primary_Type_WEAPONS VIOLATION=0, Updated On='2018-06-18 15:49:51', Ward=31.0, X Coordinate=None, Y Coordinate=None, Year=2017)]"
      ]
     },
     "execution_count": 37,
     "metadata": {
      "tags": []
     },
     "output_type": "execute_result"
    }
   ],
   "source": [
    "domestic_df = actual_arrest_df[actual_arrest_df[\"Domestic\"] == True]\n",
    "domestic_df.head(2)"
   ]
  },
  {
   "cell_type": "code",
   "execution_count": 0,
   "metadata": {
    "colab": {},
    "colab_type": "code",
    "id": "uit99Fhll-kU"
   },
   "outputs": [],
   "source": [
    "# group by year\n",
    "domestic_grouped_arrests = domestic_df.groupBy([F.year('Date').alias('year')]).\\\n",
    "          agg(F.count('Arrest').alias('Case Count'))\n",
    "# join with income data\n",
    "domestic_grouped_arrests_income = domestic_grouped_arrests.join(income_df, (domestic_grouped_arrests.year ==\\\n",
    "                        income_df.Year))\n",
    "# checking the domestic crimes amongst economically weaker section\n",
    "domestic_bucket_df = domestic_grouped_arrests_income[domestic_grouped_arrests_income[\"ID Household Income Bucket\"] == \"0\" ]\n",
    "domestic_bucket_new_df = domestic_bucket_df.select(['Case Count', 'share'])"
   ]
  },
  {
   "cell_type": "code",
   "execution_count": 45,
   "metadata": {
    "colab": {
     "base_uri": "https://localhost:8080/",
     "height": 51
    },
    "colab_type": "code",
    "id": "T-yFjs_KG6iY",
    "outputId": "817e3ae7-dbcf-43ad-d317-0c20a3c8b439"
   },
   "outputs": [
    {
     "data": {
      "text/plain": [
       "[Row(Case Count=7640, share=0.09233072885258738),\n",
       " Row(Case Count=8640, share=0.10429260872991533)]"
      ]
     },
     "execution_count": 45,
     "metadata": {
      "tags": []
     },
     "output_type": "execute_result"
    }
   ],
   "source": [
    "domestic_bucket_new_df.head(2)"
   ]
  },
  {
   "cell_type": "code",
   "execution_count": 0,
   "metadata": {
    "colab": {},
    "colab_type": "code",
    "id": "c0e70igxG0_5"
   },
   "outputs": [],
   "source": [
    "corrs_list = []\n",
    "for bucket in range(0,16,3):\n",
    "  bucket = str(bucket)\n",
    "  domestic_bucket_df = domestic_grouped_arrests_income[domestic_grouped_arrests_income[\"ID Household Income Bucket\"] == bucket ]\n",
    "  domestic_bucket_new_df = domestic_bucket_df.select(['Case Count', 'share'])\n",
    "  corr = domestic_bucket_new_df.corr('Case Count', 'share')\n",
    "  corrs_list.append(corr)"
   ]
  },
  {
   "cell_type": "code",
   "execution_count": 88,
   "metadata": {
    "colab": {
     "base_uri": "https://localhost:8080/",
     "height": 400
    },
    "colab_type": "code",
    "id": "fsEQyYFGUfY8",
    "outputId": "d88be4a4-326e-4a42-948d-bbcfdc725730"
   },
   "outputs": [
    {
     "data": {
      "image/png": "[encoded data removed]",
      "text/plain": [
       "<Figure size 720x432 with 1 Axes>"
      ]
     },
     "metadata": {
      "tags": []
     },
     "output_type": "display_data"
    }
   ],
   "source": [
    "plt.figure(figsize=(10,6))\n",
    "plt.plot(corrs_list)\n",
    "plt.title(\"Correlation between Domestic crimes and income bucket\")\n",
    "plt.ylabel('Correlation with Domestic crimes')\n",
    "plt.xlabel('Income Bucket of 3')\n",
    "plt.show()"
   ]
  },
  {
   "cell_type": "markdown",
   "metadata": {
    "colab_type": "text",
    "id": "oYjJgXVlU1gw"
   },
   "source": [
    "**Inference:** As we can see in the above plot the general trend seems to be that as income bucket increases , the number of Domestic crimes from that section decreases. Thus we make a suggestion for increased focus on low incomes sections when it comes to councelling / mental health support etc."
   ]
  },
  {
   "cell_type": "markdown",
   "metadata": {
    "colab_type": "text",
    "id": "eK46ym6IYPBd"
   },
   "source": [
    "# Analysis of different types of crimes for low and high income buckets"
   ]
  },
  {
   "cell_type": "code",
   "execution_count": 0,
   "metadata": {
    "colab": {},
    "colab_type": "code",
    "id": "w4LuCZTIYNSc"
   },
   "outputs": [],
   "source": [
    "low_income_bucket = []\n",
    "high_income_bucket = []\n",
    "actual_arrest_df = actual_arrest_df.withColumn('IUCR', actual_arrest_df['IUCR'].cast(IntegerType()))\n",
    "#homicide = 110 - 142\n",
    "#sexual_assault = 261 - 291\n",
    "#gambling 1610 - 1697\n",
    "#[110,142]\n",
    "crimes = [[261,291],[1610,1697]]\n",
    "for crime in crimes:\n",
    "  start_iucr,end_iucr = crime\n",
    "  s_df = actual_arrest_df.filter(actual_arrest_df.IUCR >= start_iucr)\n",
    "  crime_df = s_df.filter(s_df.IUCR <= end_iucr)\n",
    "\n",
    "  # group by year\n",
    "  crime_grouped_df = crime_df.groupBy([F.year('Date').alias('year')]).\\\n",
    "  agg(F.count('Arrest').alias('Case Count'))\n",
    "  \n",
    "  # join with income data\n",
    "  crime_grouped_arrests_income = crime_grouped_df.join(income_df, (crime_grouped_df.year ==\\\n",
    "                        income_df.Year))\n",
    "  \n",
    "  # checking the crimes for the buckets\n",
    "  crime_bucket_df = crime_grouped_arrests_income[crime_grouped_arrests_income[\"ID Household Income Bucket\"] == \"0\" ]\n",
    "  crime_bucket_new_df = crime_bucket_df.select(['Case Count', 'share'])\n",
    "  low_income_bucket.append(crime_bucket_new_df.corr('Case Count', 'share'))\n",
    "\n",
    "  crime_bucket_df = crime_grouped_arrests_income[crime_grouped_arrests_income[\"ID Household Income Bucket\"] == \"15\" ]\n",
    "  crime_bucket_new_df = crime_bucket_df.select(['Case Count', 'share'])\n",
    "  high_income_bucket.append(crime_bucket_new_df.corr('Case Count', 'share'))\n",
    "\n",
    "\n",
    "\n"
   ]
  },
  {
   "cell_type": "code",
   "execution_count": 82,
   "metadata": {
    "colab": {
     "base_uri": "https://localhost:8080/",
     "height": 34
    },
    "colab_type": "code",
    "id": "fJc_s6CYCi1P",
    "outputId": "916b75ed-cd3d-4e26-d921-9a161e2b6234"
   },
   "outputs": [
    {
     "data": {
      "text/plain": [
       "[-0.3437399425196877, 0.938302091074459, 0.9155651411138681]"
      ]
     },
     "execution_count": 82,
     "metadata": {
      "tags": []
     },
     "output_type": "execute_result"
    }
   ],
   "source": [
    "# correlation for low income bucket for homicide, sexual_assault and gambling\n",
    "low_income_bucket"
   ]
  },
  {
   "cell_type": "code",
   "execution_count": 83,
   "metadata": {
    "colab": {
     "base_uri": "https://localhost:8080/",
     "height": 34
    },
    "colab_type": "code",
    "id": "tPOjSBUPCk0P",
    "outputId": "6985d8cb-37ee-476d-b6f0-de31cf7748de"
   },
   "outputs": [
    {
     "data": {
      "text/plain": [
       "[0.3557221614229609, -0.803535711603009, -0.7871895534987005]"
      ]
     },
     "execution_count": 83,
     "metadata": {
      "tags": []
     },
     "output_type": "execute_result"
    }
   ],
   "source": [
    "# correlation for high income bucket for homicide, sexual_assault and gambling\n",
    "high_income_bucket"
   ]
  },
  {
   "cell_type": "markdown",
   "metadata": {
    "colab_type": "text",
    "id": "2esZUR3Cuv3s"
   },
   "source": [
    "**Inference Drawn:**\n",
    "\n",
    "1.   There are slighlty more homicide cases in buckets with high income.\n",
    "2.   There seem to be more cases of sexual assault and gambling related cases in low income buckets (Maybe high income people indulge in legal gambling ?)"
   ]
  },
  {
   "cell_type": "markdown",
   "metadata": {
    "colab_type": "text",
    "id": "-v3jQ0FLIGFD"
   },
   "source": [
    "## Housing Related Data"
   ]
  },
  {
   "cell_type": "code",
   "execution_count": 46,
   "metadata": {
    "colab": {
     "base_uri": "https://localhost:8080/",
     "height": 71
    },
    "colab_type": "code",
    "id": "LhqZ9Zp4IGvP",
    "outputId": "18cde0b3-d72e-48a1-f65b-61a84ae63514"
   },
   "outputs": [
    {
     "data": {
      "text/plain": [
       "[Row(ID='2530006', PERMIT#='100523607', PERMIT_TYPE='PERMIT - SIGNS', REVIEW_TYPE='SIGN PERMIT', APPLICATION_START_DATE='02/24/2014', ISSUE_DATE='03/04/2014', PROCESSING_TIME='8', STREET_NUMBER='10000', STREET DIRECTION='W', STREET_NAME='OHARE', SUFFIX='ST', WORK_DESCRIPTION='TERMINAL 1 - BLADE SIGN', BUILDING_FEE_PAID='100.00', ZONING_FEE_PAID='200.00', OTHER_FEE_PAID='0.00', SUBTOTAL_PAID='300.00', BUILDING_FEE_UNPAID='0.00', ZONING_FEE_UNPAID='0.00', OTHER_FEE_UNPAID='0.00', SUBTOTAL_UNPAID='0.00', BUILDING_FEE_WAIVED='0.00', ZONING_FEE_WAIVED='0.00', OTHER_FEE_WAIVED='0.00', SUBTOTAL_WAIVED='0.00', TOTAL_FEE='300.00', CONTACT_1_TYPE='SIGN CONTRACTOR', CONTACT_1_NAME='J & S ELECTRIC', CONTACT_1_CITY='AURORA', CONTACT_1_STATE='IL', CONTACT_1_ZIPCODE='60505-', CONTACT_2_TYPE=None, CONTACT_2_NAME=None, CONTACT_2_CITY=None, CONTACT_2_STATE=None, CONTACT_2_ZIPCODE=None, CONTACT_3_TYPE=None, CONTACT_3_NAME=None, CONTACT_3_CITY=None, CONTACT_3_STATE=None, CONTACT_3_ZIPCODE=None, CONTACT_4_TYPE=None, CONTACT_4_NAME=None, CONTACT_4_CITY=None, CONTACT_4_STATE=None, CONTACT_4_ZIPCODE=None, CONTACT_5_TYPE=None, CONTACT_5_NAME=None, CONTACT_5_CITY=None, CONTACT_5_STATE=None, CONTACT_5_ZIPCODE=None, CONTACT_6_TYPE=None, CONTACT_6_NAME=None, CONTACT_6_CITY=None, CONTACT_6_STATE=None, CONTACT_6_ZIPCODE=None, CONTACT_7_TYPE=None, CONTACT_7_NAME=None, CONTACT_7_CITY=None, CONTACT_7_STATE=None, CONTACT_7_ZIPCODE=None, CONTACT_8_TYPE=None, CONTACT_8_NAME=None, CONTACT_8_CITY=None, CONTACT_8_STATE=None, CONTACT_8_ZIPCODE=None, CONTACT_9_TYPE=None, CONTACT_9_NAME=None, CONTACT_9_CITY=None, CONTACT_9_STATE=None, CONTACT_9_ZIPCODE=None, CONTACT_10_TYPE=None, CONTACT_10_NAME=None, CONTACT_10_CITY=None, CONTACT_10_STATE=None, CONTACT_10_ZIPCODE=None, CONTACT_11_TYPE=None, CONTACT_11_NAME=None, CONTACT_11_CITY=None, CONTACT_11_STATE=None, CONTACT_11_ZIPCODE=None, CONTACT_12_TYPE=None, CONTACT_12_NAME=None, CONTACT_12_CITY=None, CONTACT_12_STATE=None, CONTACT_12_ZIPCODE=None, CONTACT_13_TYPE=None, CONTACT_13_NAME=None, CONTACT_13_CITY=None, CONTACT_13_STATE=None, CONTACT_13_ZIPCODE=None, CONTACT_14_TYPE=None, CONTACT_14_NAME=None, CONTACT_14_CITY=None, CONTACT_14_STATE=None, CONTACT_14_ZIPCODE=None, CONTACT_15_TYPE=None, CONTACT_15_NAME=None, CONTACT_15_CITY=None, CONTACT_15_STATE=None, CONTACT_15_ZIPCODE=None, REPORTED_COST='300.00', PIN1=None, PIN2=None, PIN3=None, PIN4=None, PIN5=None, PIN6=None, PIN7=None, PIN8=None, PIN9=None, PIN10=None, COMMUNITY_AREA='76', CENSUS_TRACT='980000', WARD='41', XCOORDINATE=None, YCOORDINATE=None, LATITUDE=None, LONGITUDE=None, LOCATION=None),\n",
       " Row(ID='2506958', PERMIT#='100510546', PERMIT_TYPE='PERMIT - SIGNS', REVIEW_TYPE='SIGN PERMIT', APPLICATION_START_DATE='11/18/2013', ISSUE_DATE='12/19/2013', PROCESSING_TIME='31', STREET_NUMBER='10000', STREET DIRECTION='N', STREET_NAME='BESSIE COLEMAN', SUFFIX='DR', WORK_DESCRIPTION='INSTALLATION OF VINYL  FOR SUITE B11', BUILDING_FEE_PAID='50.00', ZONING_FEE_PAID='200.00', OTHER_FEE_PAID='0.00', SUBTOTAL_PAID='250.00', BUILDING_FEE_UNPAID='0.00', ZONING_FEE_UNPAID='0.00', OTHER_FEE_UNPAID='0.00', SUBTOTAL_UNPAID='0.00', BUILDING_FEE_WAIVED='0.00', ZONING_FEE_WAIVED='0.00', OTHER_FEE_WAIVED='0.00', SUBTOTAL_WAIVED='0.00', TOTAL_FEE='250.00', CONTACT_1_TYPE='SIGN CONTRACTOR', CONTACT_1_NAME='BRIGHT LIGHT SIGN', CONTACT_1_CITY='LAKE ZURICH', CONTACT_1_STATE='IL', CONTACT_1_ZIPCODE='60047', CONTACT_2_TYPE=None, CONTACT_2_NAME=None, CONTACT_2_CITY=None, CONTACT_2_STATE=None, CONTACT_2_ZIPCODE=None, CONTACT_3_TYPE=None, CONTACT_3_NAME=None, CONTACT_3_CITY=None, CONTACT_3_STATE=None, CONTACT_3_ZIPCODE=None, CONTACT_4_TYPE=None, CONTACT_4_NAME=None, CONTACT_4_CITY=None, CONTACT_4_STATE=None, CONTACT_4_ZIPCODE=None, CONTACT_5_TYPE=None, CONTACT_5_NAME=None, CONTACT_5_CITY=None, CONTACT_5_STATE=None, CONTACT_5_ZIPCODE=None, CONTACT_6_TYPE=None, CONTACT_6_NAME=None, CONTACT_6_CITY=None, CONTACT_6_STATE=None, CONTACT_6_ZIPCODE=None, CONTACT_7_TYPE=None, CONTACT_7_NAME=None, CONTACT_7_CITY=None, CONTACT_7_STATE=None, CONTACT_7_ZIPCODE=None, CONTACT_8_TYPE=None, CONTACT_8_NAME=None, CONTACT_8_CITY=None, CONTACT_8_STATE=None, CONTACT_8_ZIPCODE=None, CONTACT_9_TYPE=None, CONTACT_9_NAME=None, CONTACT_9_CITY=None, CONTACT_9_STATE=None, CONTACT_9_ZIPCODE=None, CONTACT_10_TYPE=None, CONTACT_10_NAME=None, CONTACT_10_CITY=None, CONTACT_10_STATE=None, CONTACT_10_ZIPCODE=None, CONTACT_11_TYPE=None, CONTACT_11_NAME=None, CONTACT_11_CITY=None, CONTACT_11_STATE=None, CONTACT_11_ZIPCODE=None, CONTACT_12_TYPE=None, CONTACT_12_NAME=None, CONTACT_12_CITY=None, CONTACT_12_STATE=None, CONTACT_12_ZIPCODE=None, CONTACT_13_TYPE=None, CONTACT_13_NAME=None, CONTACT_13_CITY=None, CONTACT_13_STATE=None, CONTACT_13_ZIPCODE=None, CONTACT_14_TYPE=None, CONTACT_14_NAME=None, CONTACT_14_CITY=None, CONTACT_14_STATE=None, CONTACT_14_ZIPCODE=None, CONTACT_15_TYPE=None, CONTACT_15_NAME=None, CONTACT_15_CITY=None, CONTACT_15_STATE=None, CONTACT_15_ZIPCODE=None, REPORTED_COST='250.00', PIN1=None, PIN2=None, PIN3=None, PIN4=None, PIN5=None, PIN6=None, PIN7=None, PIN8=None, PIN9=None, PIN10=None, COMMUNITY_AREA='76', CENSUS_TRACT=None, WARD=None, XCOORDINATE=None, YCOORDINATE=None, LATITUDE=None, LONGITUDE=None, LOCATION=None)]"
      ]
     },
     "execution_count": 46,
     "metadata": {
      "tags": []
     },
     "output_type": "execute_result"
    }
   ],
   "source": [
    "# Get chicago Housing data\n",
    "housing_df = spark.read.csv('/content/drive/My Drive/Chicago_Housing.csv',header=True)\n",
    "housing_df.head(2)"
   ]
  },
  {
   "cell_type": "code",
   "execution_count": 47,
   "metadata": {
    "colab": {
     "base_uri": "https://localhost:8080/",
     "height": 88
    },
    "colab_type": "code",
    "id": "bF5Bk6d8IJW3",
    "outputId": "36957277-0f7e-4244-c68f-5a013b7377a5"
   },
   "outputs": [
    {
     "data": {
      "text/plain": [
       "[Row(ID='1709324', PERMIT#='100130631', PERMIT_TYPE='PERMIT - NEW CONSTRUCTION', REVIEW_TYPE='STANDARD PLAN REVIEW', APPLICATION_START_DATE='08/11/2006', ISSUE_DATE='08/14/2006', PROCESSING_TIME='3', STREET_NUMBER='500', STREET DIRECTION='S', STREET_NAME='LAKE SHORE', SUFFIX='DR', WORK_DESCRIPTION=\"PERMIT EXPIRES ON 10/14/2006 Erect a 30' x 30' canopy for event August 12,2006 with setup 8/11/06 and takedown 8/12/06 per plans.                                                                                                              -CONDITIONAL PERMIT, SUBJECT TO FIELD VERIFICATION.\", BUILDING_FEE_PAID='125.00', ZONING_FEE_PAID='75.00', OTHER_FEE_PAID='0.00', SUBTOTAL_PAID='200.00', BUILDING_FEE_UNPAID='0.00', ZONING_FEE_UNPAID='0.00', OTHER_FEE_UNPAID='0.00', SUBTOTAL_UNPAID='0.00', BUILDING_FEE_WAIVED='0.00', ZONING_FEE_WAIVED='0.00', OTHER_FEE_WAIVED='0.00', SUBTOTAL_WAIVED='0.00', TOTAL_FEE='200.00', CONTACT_1_TYPE='TENT CONTRACTOR', CONTACT_1_NAME='PHOENIX EVENT SERVICES LLC DBA', CONTACT_1_CITY='MCCOOK', CONTACT_1_STATE='IL', CONTACT_1_ZIPCODE='60525-', CONTACT_2_TYPE='ARCHITECT', CONTACT_2_NAME='DAVID PATRICK SKIFFINGTON', CONTACT_2_CITY='HAWTHORN WOODS', CONTACT_2_STATE='IL', CONTACT_2_ZIPCODE='60047', CONTACT_3_TYPE='ARCHITECT', CONTACT_3_NAME='SKIFFINGTON DAVID PATRICK', CONTACT_3_CITY='HAWTHORN WOODS', CONTACT_3_STATE='IL', CONTACT_3_ZIPCODE='60047', CONTACT_4_TYPE='TENT CONTRACTOR', CONTACT_4_NAME='MICHELLE MARKHAM', CONTACT_4_CITY='MCCOOK', CONTACT_4_STATE='IL', CONTACT_4_ZIPCODE='60525', CONTACT_5_TYPE='OWNER', CONTACT_5_NAME='GRANT PARK GRANT PARK', CONTACT_5_CITY='CHICAGO', CONTACT_5_STATE='IL', CONTACT_5_ZIPCODE='60602', CONTACT_6_TYPE=None, CONTACT_6_NAME=None, CONTACT_6_CITY=None, CONTACT_6_STATE=None, CONTACT_6_ZIPCODE=None, CONTACT_7_TYPE=None, CONTACT_7_NAME=None, CONTACT_7_CITY=None, CONTACT_7_STATE=None, CONTACT_7_ZIPCODE=None, CONTACT_8_TYPE=None, CONTACT_8_NAME=None, CONTACT_8_CITY=None, CONTACT_8_STATE=None, CONTACT_8_ZIPCODE=None, CONTACT_9_TYPE=None, CONTACT_9_NAME=None, CONTACT_9_CITY=None, CONTACT_9_STATE=None, CONTACT_9_ZIPCODE=None, CONTACT_10_TYPE=None, CONTACT_10_NAME=None, CONTACT_10_CITY=None, CONTACT_10_STATE=None, CONTACT_10_ZIPCODE=None, CONTACT_11_TYPE=None, CONTACT_11_NAME=None, CONTACT_11_CITY=None, CONTACT_11_STATE=None, CONTACT_11_ZIPCODE=None, CONTACT_12_TYPE=None, CONTACT_12_NAME=None, CONTACT_12_CITY=None, CONTACT_12_STATE=None, CONTACT_12_ZIPCODE=None, CONTACT_13_TYPE=None, CONTACT_13_NAME=None, CONTACT_13_CITY=None, CONTACT_13_STATE=None, CONTACT_13_ZIPCODE=None, CONTACT_14_TYPE=None, CONTACT_14_NAME=None, CONTACT_14_CITY=None, CONTACT_14_STATE=None, CONTACT_14_ZIPCODE=None, CONTACT_15_TYPE=None, CONTACT_15_NAME=None, CONTACT_15_CITY=None, CONTACT_15_STATE=None, CONTACT_15_ZIPCODE=None, REPORTED_COST='10000.00', PIN1=None, PIN2=None, PIN3=None, PIN4=None, PIN5=None, PIN6=None, PIN7=None, PIN8=None, PIN9=None, PIN10=None, COMMUNITY_AREA=None, CENSUS_TRACT=None, WARD=None, XCOORDINATE=None, YCOORDINATE=None, LATITUDE=None, LONGITUDE=None, LOCATION=None),\n",
       " Row(ID='1703459', PERMIT#='100127271', PERMIT_TYPE='PERMIT - NEW CONSTRUCTION', REVIEW_TYPE='STANDARD PLAN REVIEW', APPLICATION_START_DATE='07/27/2006', ISSUE_DATE='08/04/2006', PROCESSING_TIME='8', STREET_NUMBER='300', STREET DIRECTION='S', STREET_NAME='LAKE SHORE', SUFFIX='DR', WORK_DESCRIPTION=\"Install 40' x 50' performance stage for August 4-6, 2006 event, per plans.\", BUILDING_FEE_PAID='85.00', ZONING_FEE_PAID='75.00', OTHER_FEE_PAID='0.00', SUBTOTAL_PAID='160.00', BUILDING_FEE_UNPAID='0.00', ZONING_FEE_UNPAID='0.00', OTHER_FEE_UNPAID='0.00', SUBTOTAL_UNPAID='0.00', BUILDING_FEE_WAIVED='0.00', ZONING_FEE_WAIVED='0.00', OTHER_FEE_WAIVED='0.00', SUBTOTAL_WAIVED='0.00', TOTAL_FEE='160.00', CONTACT_1_TYPE='OWNER AS GENERAL CONTRACTOR', CONTACT_1_NAME='CHICAGO PARK DISTRICT CHICAGO PARK DISTRICT', CONTACT_1_CITY='CHICAGO', CONTACT_1_STATE='IL', CONTACT_1_ZIPCODE='60611', CONTACT_2_TYPE='STRUCTURAL ENGINEER', CONTACT_2_NAME='MILLER JAMES R.', CONTACT_2_CITY='CINCINNATI', CONTACT_2_STATE='OH', CONTACT_2_ZIPCODE='45241-', CONTACT_3_TYPE=None, CONTACT_3_NAME=None, CONTACT_3_CITY=None, CONTACT_3_STATE=None, CONTACT_3_ZIPCODE=None, CONTACT_4_TYPE=None, CONTACT_4_NAME=None, CONTACT_4_CITY=None, CONTACT_4_STATE=None, CONTACT_4_ZIPCODE=None, CONTACT_5_TYPE=None, CONTACT_5_NAME=None, CONTACT_5_CITY=None, CONTACT_5_STATE=None, CONTACT_5_ZIPCODE=None, CONTACT_6_TYPE=None, CONTACT_6_NAME=None, CONTACT_6_CITY=None, CONTACT_6_STATE=None, CONTACT_6_ZIPCODE=None, CONTACT_7_TYPE=None, CONTACT_7_NAME=None, CONTACT_7_CITY=None, CONTACT_7_STATE=None, CONTACT_7_ZIPCODE=None, CONTACT_8_TYPE=None, CONTACT_8_NAME=None, CONTACT_8_CITY=None, CONTACT_8_STATE=None, CONTACT_8_ZIPCODE=None, CONTACT_9_TYPE=None, CONTACT_9_NAME=None, CONTACT_9_CITY=None, CONTACT_9_STATE=None, CONTACT_9_ZIPCODE=None, CONTACT_10_TYPE=None, CONTACT_10_NAME=None, CONTACT_10_CITY=None, CONTACT_10_STATE=None, CONTACT_10_ZIPCODE=None, CONTACT_11_TYPE=None, CONTACT_11_NAME=None, CONTACT_11_CITY=None, CONTACT_11_STATE=None, CONTACT_11_ZIPCODE=None, CONTACT_12_TYPE=None, CONTACT_12_NAME=None, CONTACT_12_CITY=None, CONTACT_12_STATE=None, CONTACT_12_ZIPCODE=None, CONTACT_13_TYPE=None, CONTACT_13_NAME=None, CONTACT_13_CITY=None, CONTACT_13_STATE=None, CONTACT_13_ZIPCODE=None, CONTACT_14_TYPE=None, CONTACT_14_NAME=None, CONTACT_14_CITY=None, CONTACT_14_STATE=None, CONTACT_14_ZIPCODE=None, CONTACT_15_TYPE=None, CONTACT_15_NAME=None, CONTACT_15_CITY=None, CONTACT_15_STATE=None, CONTACT_15_ZIPCODE=None, REPORTED_COST='23000.00', PIN1=None, PIN2=None, PIN3=None, PIN4=None, PIN5=None, PIN6=None, PIN7=None, PIN8=None, PIN9=None, PIN10=None, COMMUNITY_AREA=None, CENSUS_TRACT=None, WARD=None, XCOORDINATE=None, YCOORDINATE=None, LATITUDE=None, LONGITUDE=None, LOCATION=None),\n",
       " Row(ID='1720825', PERMIT#='100135852', PERMIT_TYPE='PERMIT - NEW CONSTRUCTION', REVIEW_TYPE='STANDARD PLAN REVIEW', APPLICATION_START_DATE='09/15/2006', ISSUE_DATE='09/28/2006', PROCESSING_TIME='13', STREET_NUMBER='1636', STREET DIRECTION='W', STREET_NAME='WRIGHTWOOD', SUFFIX='AVE', WORK_DESCRIPTION='ERECT A 3 STORY 3B MASONRY SINGLE FAMILY RESIDENCE WITH BASEMENT AND DETACHED 2 CAR 3B MASONRY GARAGE WITH ROOF DECK PER PLANS', BUILDING_FEE_PAID='2333.40', ZONING_FEE_PAID='75.00', OTHER_FEE_PAID='1253.00', SUBTOTAL_PAID='3661.40', BUILDING_FEE_UNPAID='0.00', ZONING_FEE_UNPAID='0.00', OTHER_FEE_UNPAID='0.00', SUBTOTAL_UNPAID='0.00', BUILDING_FEE_WAIVED='0.00', ZONING_FEE_WAIVED='0.00', OTHER_FEE_WAIVED='0.00', SUBTOTAL_WAIVED='0.00', TOTAL_FEE='3661.40', CONTACT_1_TYPE='ARCHITECT', CONTACT_1_NAME='CHRISTOPHER M DASSE', CONTACT_1_CITY='CHICAGO X', CONTACT_1_STATE='IL', CONTACT_1_ZIPCODE='60612', CONTACT_2_TYPE='ARCHITECT', CONTACT_2_NAME='DASSE CHRISTOPHER M', CONTACT_2_CITY='CHICAGO', CONTACT_2_STATE='IL', CONTACT_2_ZIPCODE='60608-', CONTACT_3_TYPE='CONTRACTOR-ELECTRICAL', CONTACT_3_NAME=\"ALEX'S ELECTRIC\", CONTACT_3_CITY='PALOS PARK', CONTACT_3_STATE='IL', CONTACT_3_ZIPCODE='60464', CONTACT_4_TYPE='EXPEDITOR', CONTACT_4_NAME='G & C CONSULTING', CONTACT_4_CITY='CHICAGO  X', CONTACT_4_STATE='IL', CONTACT_4_ZIPCODE='60601', CONTACT_5_TYPE='CONTRACTOR-GENERAL CONTRACTOR', CONTACT_5_NAME='HIBERNIAN GROUP, LLC', CONTACT_5_CITY='CHICAGO', CONTACT_5_STATE='IL', CONTACT_5_ZIPCODE='60647-', CONTACT_6_TYPE='CONTRACTOR-HEATING', CONTACT_6_NAME='COMFORABLE AIR CORP', CONTACT_6_CITY='CHGO', CONTACT_6_STATE='IL', CONTACT_6_ZIPCODE='60618', CONTACT_7_TYPE='MASON - BRICK AND CONCRETE', CONTACT_7_NAME='E. Z. MASONRY, INC.', CONTACT_7_CITY='CHICAGO', CONTACT_7_STATE='IL', CONTACT_7_ZIPCODE='60647-', CONTACT_8_TYPE='MASON - CONCRETE ONLY', CONTACT_8_NAME='STONE CIRCLE CONCRETE, INC', CONTACT_8_CITY='CHICAGO', CONTACT_8_STATE='IL', CONTACT_8_ZIPCODE='60631-', CONTACT_9_TYPE='CONTRACTOR-PLUMBER/PLUMBING', CONTACT_9_NAME='PL194246-MOBILE PLUMBING, INC.', CONTACT_9_CITY='CHICAGO', CONTACT_9_STATE='IL', CONTACT_9_ZIPCODE='60630-', CONTACT_10_TYPE='CONTRACTOR-REFRIGERATION', CONTACT_10_NAME='COMFORABLE AIR CORP', CONTACT_10_CITY='CHGO', CONTACT_10_STATE='IL', CONTACT_10_ZIPCODE='60618', CONTACT_11_TYPE='CONTRACTOR-VENTILATION', CONTACT_11_NAME='COMFORABLE AIR CORP', CONTACT_11_CITY='CHGO', CONTACT_11_STATE='IL', CONTACT_11_ZIPCODE='60618', CONTACT_12_TYPE='OWNER', CONTACT_12_NAME='1636 W WRIGHTWOOD LLC', CONTACT_12_CITY='CHICAGO', CONTACT_12_STATE='IL', CONTACT_12_ZIPCODE='60647', CONTACT_13_TYPE=None, CONTACT_13_NAME=None, CONTACT_13_CITY=None, CONTACT_13_STATE=None, CONTACT_13_ZIPCODE=None, CONTACT_14_TYPE=None, CONTACT_14_NAME=None, CONTACT_14_CITY=None, CONTACT_14_STATE=None, CONTACT_14_ZIPCODE=None, CONTACT_15_TYPE=None, CONTACT_15_NAME=None, CONTACT_15_CITY=None, CONTACT_15_STATE=None, CONTACT_15_ZIPCODE=None, REPORTED_COST='625000.00', PIN1='14-30-404-112', PIN2=None, PIN3=None, PIN4=None, PIN5=None, PIN6=None, PIN7=None, PIN8=None, PIN9=None, PIN10=None, COMMUNITY_AREA=None, CENSUS_TRACT=None, WARD=None, XCOORDINATE=None, YCOORDINATE=None, LATITUDE=None, LONGITUDE=None, LOCATION=None)]"
      ]
     },
     "execution_count": 47,
     "metadata": {
      "tags": []
     },
     "output_type": "execute_result"
    }
   ],
   "source": [
    "# Get data for new constructions only\n",
    "new_housing_df = housing_df[housing_df[\"PERMIT_TYPE\"] == \"PERMIT - NEW CONSTRUCTION\"] \n",
    "new_housing_df.head(3)"
   ]
  },
  {
   "cell_type": "code",
   "execution_count": 0,
   "metadata": {
    "colab": {},
    "colab_type": "code",
    "id": "HbqS3hiLIYij"
   },
   "outputs": [],
   "source": [
    "# Type cast reported cost of the new construction\n",
    "new_housing_df = new_housing_df.withColumn('REPORTED_COST', new_housing_df['REPORTED_COST'].cast(DoubleType()))\n",
    "# group by community area and get the mean of the new construction. This acts as a proxy for how good a locality this is.\n",
    "area_cost_df = new_housing_df.groupBy(\"COMMUNITY_AREA\").agg(F.mean('REPORTED_COST'))\n",
    "# get crimes per community area\n",
    "area_grouped_arrests = actual_arrest_df.groupBy(\"Community Area\").agg(F.count('Arrest').alias('Case Count'))"
   ]
  },
  {
   "cell_type": "code",
   "execution_count": 49,
   "metadata": {
    "colab": {
     "base_uri": "https://localhost:8080/",
     "height": 34
    },
    "colab_type": "code",
    "id": "zPSw6mM4IrRh",
    "outputId": "2a06b4ed-60b8-4d15-8027-fa38c94525d8"
   },
   "outputs": [
    {
     "data": {
      "text/plain": [
       "0.0011719866846330166"
      ]
     },
     "execution_count": 49,
     "metadata": {
      "tags": []
     },
     "output_type": "execute_result"
    }
   ],
   "source": [
    "# join the comm\n",
    "grouped_area_arrests_cost = area_grouped_arrests.join(area_cost_df, (area_grouped_arrests[\"Community Area\"]==\\\n",
    "                        area_cost_df[\"COMMUNITY_AREA\"]))\n",
    "\n",
    "grouped_area_arrests_cost.corr('Case Count', 'avg(REPORTED_COST)')"
   ]
  },
  {
   "cell_type": "code",
   "execution_count": 50,
   "metadata": {
    "colab": {
     "base_uri": "https://localhost:8080/",
     "height": 51
    },
    "colab_type": "code",
    "id": "TO1dmtbeJDJD",
    "outputId": "e236fd07-e080-4773-c6d8-5ac5b0a6de28"
   },
   "outputs": [
    {
     "data": {
      "text/plain": [
       "[Row(Community Area=8.0, theft burglary Count=13894),\n",
       " Row(Community Area=67.0, theft burglary Count=2496)]"
      ]
     },
     "execution_count": 50,
     "metadata": {
      "tags": []
     },
     "output_type": "execute_result"
    }
   ],
   "source": [
    "actual_arrest_df = actual_arrest_df.withColumn('IUCR', actual_arrest_df['IUCR'].cast(IntegerType()))\n",
    "theft_df = actual_arrest_df.filter(actual_arrest_df.IUCR > 610)\n",
    "theft_and_burglary_df = theft_df.filter(theft_df.IUCR < 895)\n",
    "theft_and_burglary_areagrouped_df = theft_and_burglary_df.groupBy(\"Community Area\").agg(F.count('Arrest').alias('theft burglary Count'))\n",
    "theft_and_burglary_areagrouped_df.head(2)"
   ]
  },
  {
   "cell_type": "code",
   "execution_count": 52,
   "metadata": {
    "colab": {
     "base_uri": "https://localhost:8080/",
     "height": 34
    },
    "colab_type": "code",
    "id": "Negk0uBjKxH7",
    "outputId": "8dd74162-e01a-4365-b868-d35a4daefe0c"
   },
   "outputs": [
    {
     "data": {
      "text/plain": [
       "0.29910155784291703"
      ]
     },
     "execution_count": 52,
     "metadata": {
      "tags": []
     },
     "output_type": "execute_result"
    }
   ],
   "source": [
    "grouped_area_arrests_cost = theft_and_burglary_areagrouped_df.join(area_cost_df, (theft_and_burglary_areagrouped_df[\"Community Area\"]==\\\n",
    "                        area_cost_df[\"COMMUNITY_AREA\"]))\n",
    "grouped_area_arrests_cost.corr('theft burglary Count', 'avg(REPORTED_COST)')"
   ]
  },
  {
   "cell_type": "markdown",
   "metadata": {
    "colab_type": "text",
    "id": "9CWcE61ANHA9"
   },
   "source": [
    "**Inference :** From the above we can see that there is a correlation of almost 0 between the average price of a property in a community area and the total crimes in that area. Thus all community areas are almost equally Susceptible to crimes.\n",
    "\n",
    "However if we just look at crimes related to burglary and theft we see a correlation of almost 0.3, meaning community areas that are richer are more Susceptible to theft and burglary. Thus we would make a suggestion of taking steps that particularly prevent theft and burglary in such area like CCTV surveillance etc."
   ]
  },
  {
   "cell_type": "code",
   "execution_count": 0,
   "metadata": {
    "colab": {},
    "colab_type": "code",
    "id": "Er6Cof6xYcWg"
   },
   "outputs": [],
   "source": []
  }
 ],
 "metadata": {
  "colab": {
   "collapsed_sections": [],
   "name": "BigDataProject_1.ipynb",
   "provenance": []
  },
  "kernelspec": {
   "display_name": "Python 3",
   "language": "python",
   "name": "python3"
  },
  "language_info": {
   "codemirror_mode": {
    "name": "ipython",
    "version": 3
   },
   "file_extension": ".py",
   "mimetype": "text/x-python",
   "name": "python",
   "nbconvert_exporter": "python",
   "pygments_lexer": "ipython3",
   "version": "3.7.3"
  }
 },
 "nbformat": 4,
 "nbformat_minor": 1
}
